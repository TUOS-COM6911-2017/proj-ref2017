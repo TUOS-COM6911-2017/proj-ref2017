{
 "cells": [
  {
   "cell_type": "code",
   "execution_count": 9,
   "metadata": {},
   "outputs": [
    {
     "data": {
      "text/plain": [
       "'View submission: Aston University'"
      ]
     },
     "execution_count": 9,
     "metadata": {},
     "output_type": "execute_result"
    }
   ],
   "source": [
    "import requests\n",
    "import pandas as pd\n",
    "import numpy as np\n",
    "from bs4 import BeautifulSoup\n",
    "#for i in range(3163249,3163250):\n",
    "page = requests.get(\"http://results.ref.ac.uk/Submissions/Output/3163247?searchId=927&searchPageNumber=1\")\n",
    "page_content = BeautifulSoup(page.content, 'html.parser')\n",
    "#print(page_content.prettify())\n",
    "#page_content.find_all('p')[0].get_text()\n",
    "#page_content.find_all('p')[1].get_text()\n",
    "#page_content.find_all('a')[23].get_text()\n",
    "page_content.find_all('a')[24].get_text()"
   ]
  },
  {
   "cell_type": "code",
   "execution_count": null,
   "metadata": {
    "collapsed": true
   },
   "outputs": [],
   "source": []
  }
 ],
 "metadata": {
  "kernelspec": {
   "display_name": "Python 3",
   "language": "python",
   "name": "python3"
  },
  "language_info": {
   "codemirror_mode": {
    "name": "ipython",
    "version": 3
   },
   "file_extension": ".py",
   "mimetype": "text/x-python",
   "name": "python",
   "nbconvert_exporter": "python",
   "pygments_lexer": "ipython3",
   "version": "3.6.1"
  }
 },
 "nbformat": 4,
 "nbformat_minor": 2
}
