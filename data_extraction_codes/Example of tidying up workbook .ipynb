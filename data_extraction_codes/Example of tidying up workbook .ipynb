{
 "cells": [
  {
   "cell_type": "code",
   "execution_count": 5,
   "metadata": {
    "collapsed": true
   },
   "outputs": [],
   "source": [
    "# Industrial project\n",
    "\n",
    "import pandas as pd\n",
    "import xlrd\n",
    "from openpyxl import load_workbook\n",
    "\n",
    "# Open the excel file\n",
    "ref_gen = pd.read_excel(\"C:/Users/Rafaella/Desktop/Msc Data Analytics/COM6911 Industrial Project/Trials in filtering out data/Research groups.xlsx\")\n",
    "\n",
    "# Remove irrelevant mistaken rows\n",
    "ref_gen = ref_gen.drop(ref_gen.index[[0,1,2,3]])\n",
    "\n",
    "# Replace header with what was in row 4(which are the headers)\n",
    "new_header = ref_gen.iloc[0]\n",
    "ref_gen = ref_gen[1:]\n",
    "ref_gen.columns = new_header\n",
    "\n",
    "# make columns easily codeable by name\n",
    "ref_gen = ref_gen.rename(columns = {\"Institution code (UKPRN)\":\"inst_code\", \"Institution name\":\"inst_name\", \"Main panel\":\"main_panel\", \"Unit of assessment number\":\"unit_asses_num\"}) \n",
    "ref_gen = ref_gen.rename(columns = {\"Unit of assessment name\":\"unit_asses_name\", \"Multiple submission letter\":\"mult_sub_let\", \"Multiple submission name\":\"mult_sub_name\"}) \n",
    "ref_gen = ref_gen.rename(columns = {\"Joint submission\":\"joint_sub\", \"Research group\":\"research_group\"}) \n",
    "\n",
    "# Identify unique parameters\n",
    "unique_inst = ref_gen.inst_name.unique()\n",
    "research_groups = ref_gen.research_group.unique()\n",
    "\n",
    "#ref_gen\n",
    "#ref_gen.sheet_names()\n"
   ]
  },
  {
   "cell_type": "code",
   "execution_count": null,
   "metadata": {
    "collapsed": true
   },
   "outputs": [],
   "source": []
  },
  {
   "cell_type": "code",
   "execution_count": null,
   "metadata": {
    "collapsed": true
   },
   "outputs": [],
   "source": []
  }
 ],
 "metadata": {
  "kernelspec": {
   "display_name": "Python 3",
   "language": "python",
   "name": "python3"
  },
  "language_info": {
   "codemirror_mode": {
    "name": "ipython",
    "version": 3
   },
   "file_extension": ".py",
   "mimetype": "text/x-python",
   "name": "python",
   "nbconvert_exporter": "python",
   "pygments_lexer": "ipython3",
   "version": "3.6.2"
  }
 },
 "nbformat": 4,
 "nbformat_minor": 2
}
