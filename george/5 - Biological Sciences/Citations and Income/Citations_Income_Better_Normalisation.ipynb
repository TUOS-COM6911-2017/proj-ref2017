{
 "cells": [
  {
   "cell_type": "code",
   "execution_count": 1,
   "metadata": {
    "collapsed": true
   },
   "outputs": [],
   "source": [
    "import pandas as pd\n",
    "import numpy as np\n",
    "from scipy.stats.stats import pearsonr\n",
    "import math\n",
    "\n",
    "## Stats on Output and Citation\n",
    "\n",
    "## http://www.ref.ac.uk/2014/about/guidance/citationdata/\n",
    "## citations were provided by Elsevier who own Scopus and thus the data is from Scopus\n",
    "\n",
    "# Load and clean the output file\n",
    "output_or = pd.read_csv(\"REF2014Data_output.csv\")\n",
    "\n",
    "\n",
    "# Clear the dataframe to include only values required\n",
    "output = output_or.drop(output_or.columns[[range(1,27)]], axis=1)\n",
    "output = output.drop(output.columns[[2,3,4]], axis=1)"
   ]
  },
  {
   "cell_type": "code",
   "execution_count": 2,
   "metadata": {},
   "outputs": [],
   "source": [
    "# Find the means for eah UKPRN for total citations and replace nans\n",
    "length = {}\n",
    "total = {}\n",
    "mean = {}\n",
    "output_temp = output.dropna()\n",
    "for index, row in output_temp.iterrows():\n",
    "    if row[\"UKPRN\"] not in length:\n",
    "        length[row[\"UKPRN\"]] = 1\n",
    "        total[row[\"UKPRN\"]] = row[\"CitedByCount\"]\n",
    "    else:\n",
    "        length[row[\"UKPRN\"]] +=1\n",
    "        total[row[\"UKPRN\"]] += row[\"CitedByCount\"]\n",
    "    \n",
    "for item in total:\n",
    "    if item in length:\n",
    "        mean[item] = total[item] / length[item]\n",
    "        \n",
    "# Get the true length of each uni (wihtout dropna)\n",
    "truelength = {}\n",
    "for index, row in output.iterrows():\n",
    "    if row[\"UKPRN\"] not in truelength:\n",
    "        truelength[row[\"UKPRN\"]] = 1\n",
    "    else:\n",
    "        truelength[row[\"UKPRN\"]] += 1\n",
    "        \n",
    "# Multiply mean by each true length occurence to find true total  per submission\n",
    "# So it is the mean essentially for each uni\n",
    "tot_cit = mean"
   ]
  },
  {
   "cell_type": "code",
   "execution_count": 3,
   "metadata": {
    "collapsed": true
   },
   "outputs": [],
   "source": [
    "# Obtain the number of universities\n",
    "unis = output[\"UKPRN\"].unique\n"
   ]
  },
  {
   "cell_type": "code",
   "execution_count": 4,
   "metadata": {
    "collapsed": true
   },
   "outputs": [],
   "source": [
    "# Load the submission profile file and clean it\n",
    "sub_prof_or = pd.read_csv(\"REF2014Data_submissionprofile.csv\")\n",
    "\n",
    "# Keep only rows of overall score\n",
    "subprof = sub_prof_or[sub_prof_or[\"Profile\"].str.contains(\"Overall\")]\n",
    "\n",
    "# Drop irrelevant columns\n",
    "subprof = subprof.drop(subprof.columns[[1,2,3,5,6,7,8]], axis=1)\n",
    "\n",
    "# Gather the four star for each uni\n",
    "unifour = {}\n",
    "\n",
    "for index, row in subprof.iterrows():\n",
    "    unifour[row[\"UKPRN\"]] = row[\"FourStar\"]"
   ]
  },
  {
   "cell_type": "code",
   "execution_count": 5,
   "metadata": {
    "collapsed": true
   },
   "outputs": [],
   "source": [
    "import matplotlib.pyplot as plt\n",
    "%matplotlib inline\n",
    "\n",
    "# four star ranking per uni (y axis)\n",
    "unifour_y= list(unifour.values())\n",
    "\n",
    "# total citations per uni (x axis)\n",
    "totcit_x = list(tot_cit.values())\n",
    "\n",
    "        "
   ]
  },
  {
   "cell_type": "code",
   "execution_count": 6,
   "metadata": {},
   "outputs": [
    {
     "data": {
      "text/plain": [
       "[<matplotlib.text.Text at 0x7f4429ae3ba8>,\n",
       " <matplotlib.text.Text at 0x7f4429acc4e0>]"
      ]
     },
     "execution_count": 6,
     "metadata": {},
     "output_type": "execute_result"
    },
    {
     "data": {
      "image/png": "[encoded data removed]",
      "text/plain": [
       "<matplotlib.figure.Figure at 0x7f4431b788d0>"
      ]
     },
     "metadata": {},
     "output_type": "display_data"
    }
   ],
   "source": [
    "fig, ax = plt.subplots(figsize=(16, 8))\n",
    "#ax.set_yscale('log')\n",
    "plt.plot(totcit_x, unifour_y, \"rx\")\n",
    "plt.title(\"4* rating against Total Citations per UKPRN\")\n",
    "ax.set(xlabel = \"Citations\", ylabel = \"Four Star\")\n",
    "\n",
    "#plt.savefig(\"Cit 4*\")\n"
   ]
  },
  {
   "cell_type": "code",
   "execution_count": 7,
   "metadata": {},
   "outputs": [
    {
     "data": {
      "text/plain": [
       "(0.40335997964417136, 0.0066280939885608294)"
      ]
     },
     "execution_count": 7,
     "metadata": {},
     "output_type": "execute_result"
    }
   ],
   "source": [
    "## Correlation of four star against total citations:\n",
    "pearsonr(totcit_x, unifour_y)"
   ]
  },
  {
   "cell_type": "code",
   "execution_count": 8,
   "metadata": {
    "collapsed": true
   },
   "outputs": [],
   "source": [
    "## Check against one star\n",
    "## The theory is that less citations will increase one star\n",
    "\n",
    "# Keep only rows of overall score\n",
    "subproft = sub_prof_or[sub_prof_or[\"Profile\"].str.contains(\"Overall\")]\n",
    "\n",
    "# Drop irrelevant columns\n",
    "subproft = subproft.drop(subproft.columns[[1,2,3,4,5,8]], axis=1)\n",
    "\n",
    "\n",
    "# Gather the one & two star for each uni\n",
    "unilow = {}\n",
    "\n",
    "for index, row in subproft.iterrows():\n",
    "    unilow[row[\"UKPRN\"]] = row[\"OneStar\"] + row[\"TwoStar\"]"
   ]
  },
  {
   "cell_type": "code",
   "execution_count": 9,
   "metadata": {},
   "outputs": [
    {
     "data": {
      "text/plain": [
       "[<matplotlib.text.Text at 0x7f4429749fd0>,\n",
       " <matplotlib.text.Text at 0x7f44297a1710>]"
      ]
     },
     "execution_count": 9,
     "metadata": {},
     "output_type": "execute_result"
    },
    {
     "data": {
      "image/png": "[encoded data removed]",
      "text/plain": [
       "<matplotlib.figure.Figure at 0x7f44297a79b0>"
      ]
     },
     "metadata": {},
     "output_type": "display_data"
    }
   ],
   "source": [
    "unilow_y = list(unilow.values())\n",
    "\n",
    "fig, ax = plt.subplots(figsize=(16, 8))\n",
    "#ax.set_yscale('log')\n",
    "plt.plot(totcit_x, unilow_y, \"rx\")\n",
    "plt.title(\"(2*+1*) against Total Citations per UKPRN\")\n",
    "ax.set(xlabel = \"Citations\", ylabel = \"(2* + 1*)\")\n",
    "\n",
    "\n",
    "#plt.savefig(\"Cit 3*\")"
   ]
  },
  {
   "cell_type": "code",
   "execution_count": 10,
   "metadata": {},
   "outputs": [
    {
     "data": {
      "text/plain": [
       "(-0.34600412863873592, 0.021412661385324674)"
      ]
     },
     "execution_count": 10,
     "metadata": {},
     "output_type": "execute_result"
    }
   ],
   "source": [
    "## Correlation of four star against total citations:\n",
    "pearsonr(totcit_x, unilow_y)"
   ]
  },
  {
   "cell_type": "markdown",
   "metadata": {},
   "source": [
    "## Four Star against Total Income"
   ]
  },
  {
   "cell_type": "code",
   "execution_count": 11,
   "metadata": {
    "collapsed": true
   },
   "outputs": [],
   "source": [
    "# Load the submission profile file and clean it\n",
    "resinc_or = pd.read_csv(\"REF2014Data_researchincome.csv\")\n",
    "\n",
    "# Drop irrelevant columns\n",
    "resinc = resinc_or.drop(resinc_or.columns[[1,2,3]], axis=1)\n",
    "\n",
    "resinc_col_list = list(resinc)\n",
    "\n",
    "resinc_col_list.remove('UKPRN') \n",
    "\n",
    "resinc['TotalInc'] = resinc[resinc_col_list].sum(axis=1)\n",
    "\n",
    "tot_inc = {}\n",
    "\n",
    "for index, row in resinc.iterrows():\n",
    "    item = row[\"UKPRN\"]\n",
    "    if item not in tot_inc:\n",
    "        tot_inc[item] = row['TotalInc']/1000000\n",
    "    else:\n",
    "        tot_inc[item] += row['TotalInc']/1000000\n"
   ]
  },
  {
   "cell_type": "code",
   "execution_count": 12,
   "metadata": {
    "scrolled": false
   },
   "outputs": [
    {
     "data": {
      "text/plain": [
       "[<matplotlib.text.Text at 0x7f44297567b8>,\n",
       " <matplotlib.text.Text at 0x7f44297a7c18>]"
      ]
     },
     "execution_count": 12,
     "metadata": {},
     "output_type": "execute_result"
    },
    {
     "data": {
      "image/png": "[encoded data removed]",
      "text/plain": [
       "<matplotlib.figure.Figure at 0x7f44299cfe80>"
      ]
     },
     "metadata": {},
     "output_type": "display_data"
    }
   ],
   "source": [
    "tot_inc_x = list(tot_inc.values())\n",
    "\n",
    "fig, ax = plt.subplots(figsize=(16, 8))\n",
    "#ax.set_yscale('log')\n",
    "#ax.set_xscale('log')\n",
    "plt.plot(tot_inc_x, unifour_y, \"bx\")\n",
    "plt.title(\"4* vs. Total income per uni\")\n",
    "ax.set(xlabel = \"Total Income (millions)\", ylabel = \"4*\")\n",
    "\n",
    "#plt.savefig(\"Inc4*\")"
   ]
  },
  {
   "cell_type": "code",
   "execution_count": 13,
   "metadata": {},
   "outputs": [
    {
     "data": {
      "text/plain": [
       "(0.68426171966692695, 3.0366037450176949e-07)"
      ]
     },
     "execution_count": 13,
     "metadata": {},
     "output_type": "execute_result"
    }
   ],
   "source": [
    "## Correlation of four star against total income:\n",
    "pearsonr(tot_inc_x, unifour_y)"
   ]
  },
  {
   "cell_type": "code",
   "execution_count": 14,
   "metadata": {},
   "outputs": [
    {
     "data": {
      "text/plain": [
       "[<matplotlib.text.Text at 0x7f4429922978>,\n",
       " <matplotlib.text.Text at 0x7f4429a1cf98>]"
      ]
     },
     "execution_count": 14,
     "metadata": {},
     "output_type": "execute_result"
    },
    {
     "data": {
      "text/plain": [
       "<matplotlib.figure.Figure at 0x7f4429766a58>"
      ]
     },
     "metadata": {},
     "output_type": "display_data"
    },
    {
     "data": {
      "image/png": "[encoded data removed]",
      "text/plain": [
       "<matplotlib.figure.Figure at 0x7f4429766a20>"
      ]
     },
     "metadata": {},
     "output_type": "display_data"
    }
   ],
   "source": [
    "plt.figure(\"Inc3*\")\n",
    "fig, ax = plt.subplots(figsize=(16, 8))\n",
    "#ax.set_yscale('log')\n",
    "#ax.set_xscale('log')\n",
    "plt.plot(tot_inc_x, unilow_y, \"bx\")\n",
    "plt.title(\"(1* + 2*) vs. Total income per uni\")\n",
    "ax.set(xlabel = \"Total Income (millions)\", ylabel = \"(1* + 2*)\")\n",
    "\n",
    "#plt.savefig(\"Inc3*\")"
   ]
  },
  {
   "cell_type": "code",
   "execution_count": 15,
   "metadata": {},
   "outputs": [
    {
     "data": {
      "text/plain": [
       "(-0.47752609114219918, 0.0010460508374516399)"
      ]
     },
     "execution_count": 15,
     "metadata": {},
     "output_type": "execute_result"
    }
   ],
   "source": [
    "## Correlation of four star against total income:\n",
    "pearsonr(tot_inc_x, unilow_y)"
   ]
  }
 ],
 "metadata": {
  "kernelspec": {
   "display_name": "Python 3",
   "language": "python",
   "name": "python3"
  },
  "language_info": {
   "codemirror_mode": {
    "name": "ipython",
    "version": 3
   },
   "file_extension": ".py",
   "mimetype": "text/x-python",
   "name": "python",
   "nbconvert_exporter": "python",
   "pygments_lexer": "ipython3",
   "version": "3.6.2"
  }
 },
 "nbformat": 4,
 "nbformat_minor": 2
}
