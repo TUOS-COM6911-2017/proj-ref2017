{
 "cells": [
  {
   "cell_type": "code",
   "execution_count": 1,
   "metadata": {
    "collapsed": true
   },
   "outputs": [],
   "source": [
    "import pandas as pd\n",
    "import numpy as np\n",
    "from scipy.stats.stats import pearsonr\n",
    "import math\n",
    "import matplotlib.pylab as plt\n",
    "%matplotlib inline\n",
    "\n",
    "## Stats on Output and Citation\n",
    "\n",
    "## http://www.ref.ac.uk/2014/about/guidance/citationdata/\n",
    "## citations were provided by Elsevier who own Scopus and thus the data is from Scopus\n",
    "\n",
    "# Load and clean the output file\n",
    "output_or = pd.read_csv(\"REF2014Data_output.csv\")\n",
    "\n",
    "\n",
    "# Clear the dataframe to include only values required\n",
    "output = output_or.drop(output_or.columns[[range(1,27)]], axis=1)\n",
    "output = output.drop(output.columns[[2,3,4]], axis=1)"
   ]
  },
  {
   "cell_type": "code",
   "execution_count": 2,
   "metadata": {},
   "outputs": [
    {
     "data": {
      "text/plain": [
       "39"
      ]
     },
     "execution_count": 2,
     "metadata": {},
     "output_type": "execute_result"
    }
   ],
   "source": [
    "# Load the submission profile file and clean it\n",
    "sub_prof_or = pd.read_csv(\"REF2014Data_submissionprofile.csv\")\n",
    "\n",
    "# Keep only rows of overall score\n",
    "subprof = sub_prof_or[sub_prof_or[\"Profile\"].str.contains(\"Overall\")]\n",
    "\n",
    "# Drop irrelevant columns\n",
    "subprof = subprof.drop(subprof.columns[[1,2,3,5,6,7,8]], axis=1)\n",
    "\n",
    "# Gather the four star for each uni\n",
    "unifour = {}\n",
    "\n",
    "for index, row in subprof.iterrows():\n",
    "    unifour[row[\"UKPRN\"]] = row[\"FourStar\"]\n",
    "    \n",
    "len(unifour)"
   ]
  },
  {
   "cell_type": "code",
   "execution_count": 3,
   "metadata": {
    "collapsed": true
   },
   "outputs": [],
   "source": [
    "# Load the submission profile file and clean it\n",
    "resinc_or = pd.read_csv(\"REF2014Data_researchincome.csv\")\n",
    "\n",
    "# Drop irrelevant columns\n",
    "resinc = resinc_or.drop(resinc_or.columns[[1,2,3]], axis=1)\n",
    "\n",
    "resinc_col_list = list(resinc)\n",
    "\n",
    "resinc_col_list.remove('UKPRN') \n",
    "\n",
    "resinc['TotalInc'] = resinc[resinc_col_list].sum(axis=1)\n",
    "\n",
    "tot_inc = {}\n",
    "\n",
    "for index, row in resinc.iterrows():\n",
    "    item = row[\"UKPRN\"]\n",
    "    if item not in tot_inc:\n",
    "        tot_inc[item] = row['TotalInc']/1000000\n",
    "    else:\n",
    "        tot_inc[item] += row['TotalInc']/1000000\n",
    "\n",
    "combined = list()\n",
    "\n",
    "for item in tot_inc:\n",
    "    if item in unifour:\n",
    "        combined.append((tot_inc[item], unifour[item]))\n",
    "        \n",
    "tot_inc_x, unifour_y = zip(*combined)"
   ]
  },
  {
   "cell_type": "code",
   "execution_count": 4,
   "metadata": {
    "collapsed": true
   },
   "outputs": [],
   "source": [
    "## Check against one star\n",
    "## The theory is that less citations will increase one star\n",
    "\n",
    "# Keep only rows of overall score\n",
    "subproft = sub_prof_or[sub_prof_or[\"Profile\"].str.contains(\"Overall\")]\n",
    "\n",
    "# Drop irrelevant columns\n",
    "subproft = subproft.drop(subproft.columns[[1,2,3,4,5,8]], axis=1)\n",
    "\n",
    "\n",
    "# Gather the one & two star for each uni\n",
    "unilow = {}\n",
    "\n",
    "for index, row in subproft.iterrows():\n",
    "    unilow[row[\"UKPRN\"]] = row[\"OneStar\"] + row[\"TwoStar\"]\n",
    "    \n",
    "combinedlow = list()\n",
    "\n",
    "for item in unilow:\n",
    "    if item in tot_inc:\n",
    "        combinedlow.append((tot_inc[item], unilow[item]))\n",
    "tot_inc_xx, unilow_y = zip(*combinedlow)"
   ]
  },
  {
   "cell_type": "code",
   "execution_count": 5,
   "metadata": {
    "scrolled": false
   },
   "outputs": [
    {
     "data": {
      "text/plain": [
       "[<matplotlib.text.Text at 0x7f22fecd1128>,\n",
       " <matplotlib.text.Text at 0x7f22ff3014e0>]"
      ]
     },
     "execution_count": 5,
     "metadata": {},
     "output_type": "execute_result"
    },
    {
     "data": {
      "image/png": "[encoded data removed]",
      "text/plain": [
       "<matplotlib.figure.Figure at 0x7f22ff310630>"
      ]
     },
     "metadata": {},
     "output_type": "display_data"
    }
   ],
   "source": [
    "\n",
    "fig, ax = plt.subplots(figsize=(16, 8))\n",
    "#ax.set_yscale('log')\n",
    "#ax.set_xscale('log')\n",
    "plt.plot(tot_inc_x, unifour_y, \"bx\")\n",
    "plt.title(\"4* vs. Total income per uni\")\n",
    "ax.set(xlabel = \"Total Income (millions)\", ylabel = \"4*\")\n",
    "\n",
    "#plt.savefig(\"Inc4*\")"
   ]
  },
  {
   "cell_type": "code",
   "execution_count": 6,
   "metadata": {},
   "outputs": [
    {
     "data": {
      "text/plain": [
       "(0.61812503201101643, 2.7515852873191392e-05)"
      ]
     },
     "execution_count": 6,
     "metadata": {},
     "output_type": "execute_result"
    }
   ],
   "source": [
    "## Correlation of four star against total income:\n",
    "pearsonr(tot_inc_x, unifour_y)"
   ]
  },
  {
   "cell_type": "code",
   "execution_count": 7,
   "metadata": {},
   "outputs": [
    {
     "data": {
      "text/plain": [
       "[<matplotlib.text.Text at 0x7f22fec295c0>,\n",
       " <matplotlib.text.Text at 0x7f22fec13eb8>]"
      ]
     },
     "execution_count": 7,
     "metadata": {},
     "output_type": "execute_result"
    },
    {
     "data": {
      "text/plain": [
       "<matplotlib.figure.Figure at 0x7f22fec47e48>"
      ]
     },
     "metadata": {},
     "output_type": "display_data"
    },
    {
     "data": {
      "image/png": "[encoded data removed]",
      "text/plain": [
       "<matplotlib.figure.Figure at 0x7f22fec47320>"
      ]
     },
     "metadata": {},
     "output_type": "display_data"
    }
   ],
   "source": [
    "plt.figure(\"Inc3*\")\n",
    "fig, ax = plt.subplots(figsize=(16, 8))\n",
    "#ax.set_yscale('log')\n",
    "#ax.set_xscale('log')\n",
    "plt.plot(tot_inc_x, unilow_y, \"bx\")\n",
    "plt.title(\"(1* + 2*) vs. Total income per uni\")\n",
    "ax.set(xlabel = \"Total Income (millions)\", ylabel = \"(1* + 2*)\")\n",
    "\n",
    "#plt.savefig(\"Inc3*\")"
   ]
  },
  {
   "cell_type": "code",
   "execution_count": 8,
   "metadata": {},
   "outputs": [
    {
     "data": {
      "text/plain": [
       "(-0.42911356497222941, 0.0064125458744037911)"
      ]
     },
     "execution_count": 8,
     "metadata": {},
     "output_type": "execute_result"
    }
   ],
   "source": [
    "## Correlation of four star against total income:\n",
    "pearsonr(tot_inc_x, unilow_y)"
   ]
  },
  {
   "cell_type": "code",
   "execution_count": null,
   "metadata": {
    "collapsed": true
   },
   "outputs": [],
   "source": []
  }
 ],
 "metadata": {
  "kernelspec": {
   "display_name": "Python 3",
   "language": "python",
   "name": "python3"
  },
  "language_info": {
   "codemirror_mode": {
    "name": "ipython",
    "version": 3
   },
   "file_extension": ".py",
   "mimetype": "text/x-python",
   "name": "python",
   "nbconvert_exporter": "python",
   "pygments_lexer": "ipython3",
   "version": "3.6.2"
  }
 },
 "nbformat": 4,
 "nbformat_minor": 2
}
