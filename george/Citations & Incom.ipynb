{
 "cells": [
  {
   "cell_type": "code",
   "execution_count": 3,
   "metadata": {},
   "outputs": [
    {
     "data": {
      "text/plain": [
       "{10003270: 21269.0,\n",
       " 10003645: 3352.0,\n",
       " 10003957: 3195.0,\n",
       " 10004113: 938.0,\n",
       " 10005343: 4269.0,\n",
       " 10005553: 2712.0,\n",
       " 10006840: 8486.0,\n",
       " 10006842: 6130.0,\n",
       " 10007141: 1134.0,\n",
       " 10007143: 12485.0,\n",
       " 10007147: 3481.0,\n",
       " 10007148: 390.0,\n",
       " 10007150: 495.0,\n",
       " 10007154: 6243.0,\n",
       " 10007155: 3417.0,\n",
       " 10007157: 5959.0,\n",
       " 10007158: 6623.0,\n",
       " 10007160: 1672.0,\n",
       " 10007163: 7952.0,\n",
       " 10007167: 2746.0,\n",
       " 10007764: 2460.0,\n",
       " 10007767: 2006.0,\n",
       " 10007768: 6396.0,\n",
       " 10007774: 29268.0,\n",
       " 10007775: 5063.0,\n",
       " 10007784: 14849.0,\n",
       " 10007786: 6619.0,\n",
       " 10007788: 21124.0,\n",
       " 10007790: 9111.0,\n",
       " 10007792: 5227.0,\n",
       " 10007794: 6827.0,\n",
       " 10007795: 1874.0,\n",
       " 10007796: 5017.0,\n",
       " 10007798: 12030.0,\n",
       " 10007803: 6683.0,\n",
       " 10007805: 3164.0,\n",
       " 10007806: 4984.0,\n",
       " 10007814: 4186.0,\n",
       " 10007850: 2324.0,\n",
       " 10007855: 1283.0,\n",
       " 10007856: 523.0}"
      ]
     },
     "execution_count": 3,
     "metadata": {},
     "output_type": "execute_result"
    }
   ],
   "source": [
    "import pandas as pd\n",
    "import numpy as np\n",
    "\n",
    "## Stats on Output and Citation\n",
    "\n",
    "## http://www.ref.ac.uk/2014/about/guidance/citationdata/\n",
    "## citations were provided by Elsevier who own Scopus and thus the data is from Scopus\n",
    "\n",
    "# Load and clean the output file\n",
    "output_or = pd.read_csv(\"REF2014Data_output.csv\")\n",
    "\n",
    "\n",
    "# Clear the dataframe to include only values required\n",
    "output = output_or.drop(output_or.columns[[range(1,27)]], axis=1)\n",
    "output = output.drop(output.columns[[2,3,4]], axis=1)\n",
    "# drop all columns that do not contain a value\n",
    "output = output.dropna()\n",
    "\n",
    "# Obtain the average citation by count for each UKPRN\n",
    "unis = output[\"UKPRN\"].unique()\n",
    "\n",
    "# Total citations per UKPRN\n",
    "tot_cit = {}\n",
    "\n",
    "for uni in unis:\n",
    "    for index, row in output.iterrows():\n",
    "        #print(row['UKPRN'], row['CitedByCount'])\n",
    "        if uni == row[\"UKPRN\"]:\n",
    "            if uni not in tot_cit:\n",
    "                tot_cit[uni] = row['CitedByCount']\n",
    "            else:\n",
    "                tot_cit[uni] += row['CitedByCount']\n",
    "tot_cit              "
   ]
  },
  {
   "cell_type": "code",
   "execution_count": 2,
   "metadata": {},
   "outputs": [
    {
     "data": {
      "text/plain": [
       "True"
      ]
     },
     "execution_count": 2,
     "metadata": {},
     "output_type": "execute_result"
    }
   ],
   "source": [
    "## CHECKS\n",
    "\n",
    "len(unis) == len(tot_cit)"
   ]
  },
  {
   "cell_type": "code",
   "execution_count": 3,
   "metadata": {},
   "outputs": [
    {
     "data": {
      "text/plain": [
       "41"
      ]
     },
     "execution_count": 3,
     "metadata": {},
     "output_type": "execute_result"
    }
   ],
   "source": [
    "# Load the submission profile file and clean it\n",
    "sub_prof_or = pd.read_csv(\"REF2014Data_submissionprofile.csv\")\n",
    "\n",
    "# Keep only rows of overall score\n",
    "subprof = sub_prof_or[sub_prof_or[\"Profile\"].str.contains(\"Overall\")]\n",
    "\n",
    "# Drop irrelevant columns\n",
    "subprof = sub_prof_or.drop(sub_prof_or.columns[[1,2,3,5,6,7,8]], axis=1)\n",
    "\n",
    "# Find the average four star for each uni\n",
    "\n",
    "tot_fourst = {}\n",
    "len_uni = {}\n",
    "\n",
    "for uni in unis:\n",
    "    for index, row in subprof.iterrows():\n",
    "        #print(row['UKPRN'], row['CitedByCount'])\n",
    "        if uni == row[\"UKPRN\"]:\n",
    "            if uni not in len_uni:\n",
    "                len_uni[uni] = 1\n",
    "            else:\n",
    "                len_uni[uni] += 1\n",
    "                \n",
    "            if uni not in tot_fourst:\n",
    "                tot_fourst[uni] = row['FourStar']\n",
    "            else:\n",
    "                tot_fourst[uni] += row['FourStar']\n",
    "av = {}\n",
    "\n",
    "for uni in tot_fourst:\n",
    "    for univ in len_uni:\n",
    "        if univ == uni:\n",
    "            av[uni] = tot_fourst[uni]/len_uni[univ]\n",
    "\n",
    "len(av)"
   ]
  },
  {
   "cell_type": "code",
   "execution_count": 4,
   "metadata": {},
   "outputs": [
    {
     "data": {
      "text/plain": [
       "True"
      ]
     },
     "execution_count": 4,
     "metadata": {},
     "output_type": "execute_result"
    }
   ],
   "source": [
    "## CHECKS\n",
    "\n",
    "len(unis) == len(av)"
   ]
  },
  {
   "cell_type": "code",
   "execution_count": 5,
   "metadata": {
    "collapsed": true
   },
   "outputs": [],
   "source": [
    "import matplotlib.pyplot as plt\n",
    "%matplotlib inline\n",
    "\n",
    "ava = list(av.values())\n",
    "totcita = list(tot_cit.values())\n",
    "\n",
    "        "
   ]
  },
  {
   "cell_type": "code",
   "execution_count": 6,
   "metadata": {},
   "outputs": [
    {
     "data": {
      "image/png": "[encoded data removed]",
      "text/plain": [
       "<matplotlib.figure.Figure at 0x7eff6db571d0>"
      ]
     },
     "metadata": {},
     "output_type": "display_data"
    }
   ],
   "source": [
    "fig, ax = plt.subplots(figsize=(16, 8))\n",
    "ax.set_yscale('log')\n",
    "plt.plot(totcita, ava, \"rx\")\n",
    "plt.title(\"Log Av. 4* against Total Citations per UKPRN\")\n",
    "ax.set(xlabel = \"Citations\", ylabel = \"Log Four Star\")\n",
    "\n",
    "plt.savefig(\"Cit 4*\")\n"
   ]
  },
  {
   "cell_type": "markdown",
   "metadata": {},
   "source": [
    "There appears to be a relationship, need to check correlation between two values"
   ]
  },
  {
   "cell_type": "code",
   "execution_count": 7,
   "metadata": {
    "collapsed": true
   },
   "outputs": [],
   "source": [
    "## Check with three star\n",
    "\n",
    "# Keep only rows of overall score\n",
    "subproft = sub_prof_or[sub_prof_or[\"Profile\"].str.contains(\"Overall\")]\n",
    "\n",
    "# Drop irrelevant columns\n",
    "subproft = sub_prof_or.drop(sub_prof_or.columns[[1,2,3,4,6,7,8]], axis=1)\n",
    "\n",
    "# Find the average three star for each uni\n",
    "\n",
    "tot_three = {}\n",
    "len_uni = {}\n",
    "\n",
    "for unit in unis:\n",
    "    for index, row in subproft.iterrows():\n",
    "        #print(row['UKPRN'], row['CitedByCount'])\n",
    "        if unit == row[\"UKPRN\"]:\n",
    "            if unit not in len_uni:\n",
    "                len_uni[unit] = 1\n",
    "            else:\n",
    "                len_uni[unit] += 1\n",
    "                \n",
    "            if unit not in tot_three:\n",
    "                tot_three[unit] = row['ThreeStar']\n",
    "            else:\n",
    "                tot_three[unit] += row['ThreeStar']\n",
    "avt = {}\n",
    "\n",
    "for uni in tot_three:\n",
    "    for univ in len_uni:\n",
    "        if univ == uni:\n",
    "            avt[uni] = tot_three[uni]/len_uni[univ]\n",
    "        "
   ]
  },
  {
   "cell_type": "code",
   "execution_count": 8,
   "metadata": {},
   "outputs": [
    {
     "data": {
      "text/plain": [
       "True"
      ]
     },
     "execution_count": 8,
     "metadata": {},
     "output_type": "execute_result"
    }
   ],
   "source": [
    "## CHECKs\n",
    "len(unis) == len(av)"
   ]
  },
  {
   "cell_type": "code",
   "execution_count": 9,
   "metadata": {},
   "outputs": [
    {
     "data": {
      "image/png": "[encoded data removed]",
      "text/plain": [
       "<matplotlib.figure.Figure at 0x7eff657238d0>"
      ]
     },
     "metadata": {},
     "output_type": "display_data"
    }
   ],
   "source": [
    "avta = list(avt.values())\n",
    "\n",
    "fig, ax = plt.subplots(figsize=(16, 8))\n",
    "ax.set_yscale('log')\n",
    "plt.plot(totcita, avta, \"rx\")\n",
    "plt.title(\"Log Av. 3* against Total Citations per UKPRN\")\n",
    "ax.set(xlabel = \"Citations\", ylabel = \"Log 3*\")\n",
    "\n",
    "\n",
    "plt.savefig(\"Cit 3*\")"
   ]
  },
  {
   "cell_type": "markdown",
   "metadata": {},
   "source": [
    "## Now compare av. four star to research income"
   ]
  },
  {
   "cell_type": "code",
   "execution_count": 10,
   "metadata": {
    "collapsed": true
   },
   "outputs": [],
   "source": [
    "# Load the submission profile file and clean it\n",
    "resinc_or = pd.read_csv(\"REF2014Data_researchincome.csv\")\n",
    "\n",
    "# Drop irrelevant columns\n",
    "resinc = resinc_or.drop(resinc_or.columns[[1,2,3]], axis=1)\n",
    "\n",
    "resinc_col_list = list(resinc)\n",
    "\n",
    "resinc_col_list.remove('UKPRN') \n",
    "\n",
    "resinc['TotalInc'] = resinc[resinc_col_list].sum(axis=1)\n",
    "\n",
    "tot_inc = {}\n",
    "\n",
    "for item in unis:\n",
    "    for index, row in resinc.iterrows():\n",
    "        # return total income normalised\n",
    "        if item == row[\"UKPRN\"]:\n",
    "            if item not in tot_inc:\n",
    "                tot_inc[item] = row['TotalInc']/1000000\n",
    "            else:\n",
    "                tot_inc[item] += row['TotalInc']/1000000\n"
   ]
  },
  {
   "cell_type": "code",
   "execution_count": 11,
   "metadata": {
    "scrolled": false
   },
   "outputs": [
    {
     "data": {
      "image/png": "[encoded data removed]",
      "text/plain": [
       "<matplotlib.figure.Figure at 0x7eff6517f550>"
      ]
     },
     "metadata": {},
     "output_type": "display_data"
    }
   ],
   "source": [
    "tot_inc_l = list(tot_inc.values())\n",
    "\n",
    "fig, ax = plt.subplots(figsize=(16, 8))\n",
    "ax.set_yscale('log')\n",
    "#ax.set_xscale('log')\n",
    "plt.plot(tot_inc_l, ava, \"bx\")\n",
    "plt.title(\"Log Av. 4* vs. Total income per uni\")\n",
    "ax.set(xlabel = \"Total Income (millions)\", ylabel = \"Log 4*\")\n",
    "\n",
    "plt.savefig(\"Inc4*\")"
   ]
  },
  {
   "cell_type": "code",
   "execution_count": 12,
   "metadata": {},
   "outputs": [
    {
     "data": {
      "text/plain": [
       "<matplotlib.figure.Figure at 0x7eff64b9cb70>"
      ]
     },
     "metadata": {},
     "output_type": "display_data"
    },
    {
     "data": {
      "image/png": "[encoded data removed]",
      "text/plain": [
       "<matplotlib.figure.Figure at 0x7eff64b9ce10>"
      ]
     },
     "metadata": {},
     "output_type": "display_data"
    }
   ],
   "source": [
    "plt.figure(\"Inc3*\")\n",
    "fig, ax = plt.subplots(figsize=(16, 8))\n",
    "ax.set_yscale('log')\n",
    "#ax.set_xscale('log')\n",
    "plt.plot(tot_inc_l, avta, \"bx\")\n",
    "plt.title(\"Log Av. 3* vs. Total income per uni\")\n",
    "ax.set(xlabel = \"Total Income (millions)\", ylabel = \"Log 3*\")\n",
    "\n",
    "plt.savefig(\"Inc3*\")"
   ]
  },
  {
   "cell_type": "code",
   "execution_count": 13,
   "metadata": {},
   "outputs": [
    {
     "data": {
      "text/plain": [
       "(0.57928880939669525, 7.2349612082725793e-05)"
      ]
     },
     "execution_count": 13,
     "metadata": {},
     "output_type": "execute_result"
    }
   ],
   "source": [
    "from scipy.stats.stats import pearsonr\n",
    "# Correlation Income vs Four Str\n",
    "pearsonr(tot_inc_l, ava)"
   ]
  },
  {
   "cell_type": "code",
   "execution_count": 14,
   "metadata": {},
   "outputs": [
    {
     "data": {
      "text/plain": [
       "(0.63629657404582196, 7.7700231634952631e-06)"
      ]
     },
     "execution_count": 14,
     "metadata": {},
     "output_type": "execute_result"
    }
   ],
   "source": [
    "# Correlation Citations vs Four Str\n",
    "pearsonr(totcita, ava)"
   ]
  },
  {
   "cell_type": "code",
   "execution_count": null,
   "metadata": {
    "collapsed": true
   },
   "outputs": [],
   "source": []
  }
 ],
 "metadata": {
  "kernelspec": {
   "display_name": "Python 3",
   "language": "python",
   "name": "python3"
  },
  "language_info": {
   "codemirror_mode": {
    "name": "ipython",
    "version": 3
   },
   "file_extension": ".py",
   "mimetype": "text/x-python",
   "name": "python",
   "nbconvert_exporter": "python",
   "pygments_lexer": "ipython3",
   "version": "3.6.2"
  }
 },
 "nbformat": 4,
 "nbformat_minor": 2
}
